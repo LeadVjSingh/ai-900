{
  "nbformat": 4,
  "nbformat_minor": 0,
  "metadata": {
    "colab": {
      "provenance": []
    },
    "kernelspec": {
      "name": "python3",
      "display_name": "Python 3"
    },
    "language_info": {
      "name": "python"
    }
  },
  "cells": [
    {
      "cell_type": "code",
      "source": [
        "import matlibplot.pyplot as plt\n",
        "import numpy as np"
      ],
      "metadata": {
        "id": "ixsLRECTu704"
      },
      "execution_count": null,
      "outputs": []
    },
    {
      "cell_type": "code",
      "source": [
        "x = np.random.normal(170,10,20)\n",
        "print(type(x))\n",
        "print(x)"
      ],
      "metadata": {
        "id": "Nad0SAjGwEQG"
      },
      "execution_count": null,
      "outputs": []
    }
  ]
}